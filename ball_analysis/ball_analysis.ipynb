{
 "cells": [
  {
   "cell_type": "code",
   "execution_count": 1,
   "metadata": {},
   "outputs": [],
   "source": [
    "import pickle as pkl\n",
    "import pandas as pd\n",
    "import matplotlib.pyplot as plt"
   ]
  },
  {
   "cell_type": "code",
   "execution_count": 16,
   "metadata": {},
   "outputs": [],
   "source": [
    "with open(\"../tracking_stubs/ball_detection.pkl\",\"rb\") as f:\n",
    "    ball_positions = pkl.load(f)\n"
   ]
  },
  {
   "cell_type": "code",
   "execution_count": 17,
   "metadata": {},
   "outputs": [],
   "source": [
    "ball_detections= [x.get(1,[]) for x in ball_positions]\n",
    "\n",
    "#change it to a pandas data frame to use the interpolate functions\n",
    "ball_detections_df = pd.DataFrame(ball_detections,columns=['x1','y1','x2','y2'])\n",
    "        \n",
    "ball_detections_df = ball_detections_df.interpolate()\n",
    "        #filling the first frames \n",
    "ball_detections_df = ball_detections_df.bfill()\n",
    "        \n",
    "ball_detections = [{1:x} for x in ball_detections_df.to_numpy().tolist()]\n"
   ]
  },
  {
   "cell_type": "code",
   "execution_count": 19,
   "metadata": {},
   "outputs": [
    {
     "data": {
      "text/html": [
       "<div>\n",
       "<style scoped>\n",
       "    .dataframe tbody tr th:only-of-type {\n",
       "        vertical-align: middle;\n",
       "    }\n",
       "\n",
       "    .dataframe tbody tr th {\n",
       "        vertical-align: top;\n",
       "    }\n",
       "\n",
       "    .dataframe thead th {\n",
       "        text-align: right;\n",
       "    }\n",
       "</style>\n",
       "<table border=\"1\" class=\"dataframe\">\n",
       "  <thead>\n",
       "    <tr style=\"text-align: right;\">\n",
       "      <th></th>\n",
       "      <th>x1</th>\n",
       "      <th>y1</th>\n",
       "      <th>x2</th>\n",
       "      <th>y2</th>\n",
       "    </tr>\n",
       "  </thead>\n",
       "  <tbody>\n",
       "    <tr>\n",
       "      <th>0</th>\n",
       "      <td>822.754211</td>\n",
       "      <td>687.889893</td>\n",
       "      <td>836.956970</td>\n",
       "      <td>703.234314</td>\n",
       "    </tr>\n",
       "    <tr>\n",
       "      <th>1</th>\n",
       "      <td>822.754211</td>\n",
       "      <td>687.889893</td>\n",
       "      <td>836.956970</td>\n",
       "      <td>703.234314</td>\n",
       "    </tr>\n",
       "    <tr>\n",
       "      <th>2</th>\n",
       "      <td>822.754211</td>\n",
       "      <td>687.889893</td>\n",
       "      <td>836.956970</td>\n",
       "      <td>703.234314</td>\n",
       "    </tr>\n",
       "    <tr>\n",
       "      <th>3</th>\n",
       "      <td>822.754211</td>\n",
       "      <td>687.889893</td>\n",
       "      <td>836.956970</td>\n",
       "      <td>703.234314</td>\n",
       "    </tr>\n",
       "    <tr>\n",
       "      <th>4</th>\n",
       "      <td>822.754211</td>\n",
       "      <td>687.889893</td>\n",
       "      <td>836.956970</td>\n",
       "      <td>703.234314</td>\n",
       "    </tr>\n",
       "    <tr>\n",
       "      <th>...</th>\n",
       "      <td>...</td>\n",
       "      <td>...</td>\n",
       "      <td>...</td>\n",
       "      <td>...</td>\n",
       "    </tr>\n",
       "    <tr>\n",
       "      <th>209</th>\n",
       "      <td>1188.568911</td>\n",
       "      <td>246.240005</td>\n",
       "      <td>1200.117065</td>\n",
       "      <td>258.504767</td>\n",
       "    </tr>\n",
       "    <tr>\n",
       "      <th>210</th>\n",
       "      <td>1184.881470</td>\n",
       "      <td>232.816147</td>\n",
       "      <td>1196.261353</td>\n",
       "      <td>244.988724</td>\n",
       "    </tr>\n",
       "    <tr>\n",
       "      <th>211</th>\n",
       "      <td>1184.068237</td>\n",
       "      <td>226.247955</td>\n",
       "      <td>1197.245728</td>\n",
       "      <td>241.382721</td>\n",
       "    </tr>\n",
       "    <tr>\n",
       "      <th>212</th>\n",
       "      <td>1180.170410</td>\n",
       "      <td>214.140472</td>\n",
       "      <td>1194.881470</td>\n",
       "      <td>229.481049</td>\n",
       "    </tr>\n",
       "    <tr>\n",
       "      <th>213</th>\n",
       "      <td>1179.880737</td>\n",
       "      <td>204.442993</td>\n",
       "      <td>1193.371948</td>\n",
       "      <td>218.722610</td>\n",
       "    </tr>\n",
       "  </tbody>\n",
       "</table>\n",
       "<p>214 rows × 4 columns</p>\n",
       "</div>"
      ],
      "text/plain": [
       "              x1          y1           x2          y2\n",
       "0     822.754211  687.889893   836.956970  703.234314\n",
       "1     822.754211  687.889893   836.956970  703.234314\n",
       "2     822.754211  687.889893   836.956970  703.234314\n",
       "3     822.754211  687.889893   836.956970  703.234314\n",
       "4     822.754211  687.889893   836.956970  703.234314\n",
       "..           ...         ...          ...         ...\n",
       "209  1188.568911  246.240005  1200.117065  258.504767\n",
       "210  1184.881470  232.816147  1196.261353  244.988724\n",
       "211  1184.068237  226.247955  1197.245728  241.382721\n",
       "212  1180.170410  214.140472  1194.881470  229.481049\n",
       "213  1179.880737  204.442993  1193.371948  218.722610\n",
       "\n",
       "[214 rows x 4 columns]"
      ]
     },
     "execution_count": 19,
     "metadata": {},
     "output_type": "execute_result"
    }
   ],
   "source": [
    "ball_detections_df"
   ]
  },
  {
   "cell_type": "code",
   "execution_count": 21,
   "metadata": {},
   "outputs": [],
   "source": [
    "ball_detections_df['mean_y'] = (ball_detections_df[\"y1\"] + ball_detections_df [\"y2\"])/2"
   ]
  },
  {
   "cell_type": "code",
   "execution_count": 27,
   "metadata": {},
   "outputs": [],
   "source": [
    "ball_detections_df['mean_y'] = (ball_detections_df[\"y1\"] + ball_detections_df [\"y2\"])/2\n",
    "# Calculate the rolling mean of the 'mean_y' column with a window size of 5,\n",
    "# requiring at least 1 value per window, and place the result in a new column 'mean_y_rolling_mean'.\n",
    "# The window is not centered, meaning it uses the current and previous values for the calculation.\n",
    "ball_detections_df['mean_y_rolling_mean'] = ball_detections_df['mean_y'].rolling(window=5, min_periods=1, center=False).mean()\n",
    "ball_detections_df['delta_y'] = ball_detections_df['mid_y_rolling_mean'].diff()\n"
   ]
  },
  {
   "cell_type": "code",
   "execution_count": 28,
   "metadata": {},
   "outputs": [
    {
     "data": {
      "text/plain": [
       "[<matplotlib.lines.Line2D at 0x1ce5c6e1b10>]"
      ]
     },
     "execution_count": 28,
     "metadata": {},
     "output_type": "execute_result"
    },
    {
     "data": {
      "image/png": "[encoded data removed]",
      "text/plain": [
       "<Figure size 640x480 with 1 Axes>"
      ]
     },
     "metadata": {},
     "output_type": "display_data"
    }
   ],
   "source": [
    "plt.plot(ball_detections_df['mid_y_rolling_mean'])"
   ]
  },
  {
   "cell_type": "code",
   "execution_count": 31,
   "metadata": {},
   "outputs": [
    {
     "data": {
      "text/plain": [
       "[<matplotlib.lines.Line2D at 0x1ce5c72e6d0>]"
      ]
     },
     "execution_count": 31,
     "metadata": {},
     "output_type": "execute_result"
    },
    {
     "data": {
      "image/png": "[encoded data removed]",
      "text/plain": [
       "<Figure size 640x480 with 1 Axes>"
      ]
     },
     "metadata": {},
     "output_type": "display_data"
    }
   ],
   "source": [
    "ball_detections_df['delta_y'] = ball_detections_df['mid_y_rolling_mean'].diff()\n",
    "# plot mid_y_rolling_mean\n",
    "plt.plot(ball_detections_df['delta_y'])"
   ]
  },
  {
   "cell_type": "code",
   "execution_count": 32,
   "metadata": {},
   "outputs": [
    {
     "name": "stderr",
     "output_type": "stream",
     "text": [
      "C:\\Users\\salwa\\AppData\\Local\\Temp\\ipykernel_4828\\3254137099.py:19: FutureWarning: ChainedAssignmentError: behaviour will change in pandas 3.0!\n",
      "You are setting values through chained assignment. Currently this works in certain cases, but when using Copy-on-Write (which will become the default behaviour in pandas 3.0) this will never work to update the original DataFrame or Series, because the intermediate object on which we are setting values will behave as a copy.\n",
      "A typical example is when you are setting values in a column of a DataFrame, like:\n",
      "\n",
      "df[\"col\"][row_indexer] = value\n",
      "\n",
      "Use `df.loc[row_indexer, \"col\"] = values` instead, to perform the assignment in a single step and ensure this keeps updating the original `df`.\n",
      "\n",
      "See the caveats in the documentation: https://pandas.pydata.org/pandas-docs/stable/user_guide/indexing.html#returning-a-view-versus-a-copy\n",
      "\n",
      "  ball_detections_df['ball_hit'].iloc[i] = 1\n",
      "C:\\Users\\salwa\\AppData\\Local\\Temp\\ipykernel_4828\\3254137099.py:19: SettingWithCopyWarning: \n",
      "A value is trying to be set on a copy of a slice from a DataFrame\n",
      "\n",
      "See the caveats in the documentation: https://pandas.pydata.org/pandas-docs/stable/user_guide/indexing.html#returning-a-view-versus-a-copy\n",
      "  ball_detections_df['ball_hit'].iloc[i] = 1\n",
      "C:\\Users\\salwa\\AppData\\Local\\Temp\\ipykernel_4828\\3254137099.py:19: FutureWarning: ChainedAssignmentError: behaviour will change in pandas 3.0!\n",
      "You are setting values through chained assignment. Currently this works in certain cases, but when using Copy-on-Write (which will become the default behaviour in pandas 3.0) this will never work to update the original DataFrame or Series, because the intermediate object on which we are setting values will behave as a copy.\n",
      "A typical example is when you are setting values in a column of a DataFrame, like:\n",
      "\n",
      "df[\"col\"][row_indexer] = value\n",
      "\n",
      "Use `df.loc[row_indexer, \"col\"] = values` instead, to perform the assignment in a single step and ensure this keeps updating the original `df`.\n",
      "\n",
      "See the caveats in the documentation: https://pandas.pydata.org/pandas-docs/stable/user_guide/indexing.html#returning-a-view-versus-a-copy\n",
      "\n",
      "  ball_detections_df['ball_hit'].iloc[i] = 1\n",
      "C:\\Users\\salwa\\AppData\\Local\\Temp\\ipykernel_4828\\3254137099.py:19: SettingWithCopyWarning: \n",
      "A value is trying to be set on a copy of a slice from a DataFrame\n",
      "\n",
      "See the caveats in the documentation: https://pandas.pydata.org/pandas-docs/stable/user_guide/indexing.html#returning-a-view-versus-a-copy\n",
      "  ball_detections_df['ball_hit'].iloc[i] = 1\n",
      "C:\\Users\\salwa\\AppData\\Local\\Temp\\ipykernel_4828\\3254137099.py:19: FutureWarning: ChainedAssignmentError: behaviour will change in pandas 3.0!\n",
      "You are setting values through chained assignment. Currently this works in certain cases, but when using Copy-on-Write (which will become the default behaviour in pandas 3.0) this will never work to update the original DataFrame or Series, because the intermediate object on which we are setting values will behave as a copy.\n",
      "A typical example is when you are setting values in a column of a DataFrame, like:\n",
      "\n",
      "df[\"col\"][row_indexer] = value\n",
      "\n",
      "Use `df.loc[row_indexer, \"col\"] = values` instead, to perform the assignment in a single step and ensure this keeps updating the original `df`.\n",
      "\n",
      "See the caveats in the documentation: https://pandas.pydata.org/pandas-docs/stable/user_guide/indexing.html#returning-a-view-versus-a-copy\n",
      "\n",
      "  ball_detections_df['ball_hit'].iloc[i] = 1\n",
      "C:\\Users\\salwa\\AppData\\Local\\Temp\\ipykernel_4828\\3254137099.py:19: SettingWithCopyWarning: \n",
      "A value is trying to be set on a copy of a slice from a DataFrame\n",
      "\n",
      "See the caveats in the documentation: https://pandas.pydata.org/pandas-docs/stable/user_guide/indexing.html#returning-a-view-versus-a-copy\n",
      "  ball_detections_df['ball_hit'].iloc[i] = 1\n",
      "C:\\Users\\salwa\\AppData\\Local\\Temp\\ipykernel_4828\\3254137099.py:19: FutureWarning: ChainedAssignmentError: behaviour will change in pandas 3.0!\n",
      "You are setting values through chained assignment. Currently this works in certain cases, but when using Copy-on-Write (which will become the default behaviour in pandas 3.0) this will never work to update the original DataFrame or Series, because the intermediate object on which we are setting values will behave as a copy.\n",
      "A typical example is when you are setting values in a column of a DataFrame, like:\n",
      "\n",
      "df[\"col\"][row_indexer] = value\n",
      "\n",
      "Use `df.loc[row_indexer, \"col\"] = values` instead, to perform the assignment in a single step and ensure this keeps updating the original `df`.\n",
      "\n",
      "See the caveats in the documentation: https://pandas.pydata.org/pandas-docs/stable/user_guide/indexing.html#returning-a-view-versus-a-copy\n",
      "\n",
      "  ball_detections_df['ball_hit'].iloc[i] = 1\n",
      "C:\\Users\\salwa\\AppData\\Local\\Temp\\ipykernel_4828\\3254137099.py:19: SettingWithCopyWarning: \n",
      "A value is trying to be set on a copy of a slice from a DataFrame\n",
      "\n",
      "See the caveats in the documentation: https://pandas.pydata.org/pandas-docs/stable/user_guide/indexing.html#returning-a-view-versus-a-copy\n",
      "  ball_detections_df['ball_hit'].iloc[i] = 1\n",
      "C:\\Users\\salwa\\AppData\\Local\\Temp\\ipykernel_4828\\3254137099.py:19: FutureWarning: ChainedAssignmentError: behaviour will change in pandas 3.0!\n",
      "You are setting values through chained assignment. Currently this works in certain cases, but when using Copy-on-Write (which will become the default behaviour in pandas 3.0) this will never work to update the original DataFrame or Series, because the intermediate object on which we are setting values will behave as a copy.\n",
      "A typical example is when you are setting values in a column of a DataFrame, like:\n",
      "\n",
      "df[\"col\"][row_indexer] = value\n",
      "\n",
      "Use `df.loc[row_indexer, \"col\"] = values` instead, to perform the assignment in a single step and ensure this keeps updating the original `df`.\n",
      "\n",
      "See the caveats in the documentation: https://pandas.pydata.org/pandas-docs/stable/user_guide/indexing.html#returning-a-view-versus-a-copy\n",
      "\n",
      "  ball_detections_df['ball_hit'].iloc[i] = 1\n",
      "C:\\Users\\salwa\\AppData\\Local\\Temp\\ipykernel_4828\\3254137099.py:19: SettingWithCopyWarning: \n",
      "A value is trying to be set on a copy of a slice from a DataFrame\n",
      "\n",
      "See the caveats in the documentation: https://pandas.pydata.org/pandas-docs/stable/user_guide/indexing.html#returning-a-view-versus-a-copy\n",
      "  ball_detections_df['ball_hit'].iloc[i] = 1\n"
     ]
    }
   ],
   "source": [
    "ball_detections_df['ball_hit']=0\n",
    "minimum_change_frames_for_hit = 25\n",
    "for i in range(1,len(ball_detections_df)- int(minimum_change_frames_for_hit*1.2) ):\n",
    "    negative_position_change = ball_detections_df['delta_y'].iloc[i] >0 and ball_detections_df['delta_y'].iloc[i+1] <0\n",
    "    positive_position_change = ball_detections_df['delta_y'].iloc[i] <0 and ball_detections_df['delta_y'].iloc[i+1] >0\n",
    "\n",
    "    if negative_position_change or positive_position_change:\n",
    "        change_count = 0 \n",
    "        for change_frame in range(i+1, i+int(minimum_change_frames_for_hit*1.2)+1):\n",
    "            negative_position_change_following_frame = ball_detections_df['delta_y'].iloc[i] >0 and ball_detections_df['delta_y'].iloc[change_frame] <0\n",
    "            positive_position_change_following_frame = ball_detections_df['delta_y'].iloc[i] <0 and ball_detections_df['delta_y'].iloc[change_frame] >0\n",
    "\n",
    "            if negative_position_change and negative_position_change_following_frame:\n",
    "                change_count+=1\n",
    "            elif positive_position_change and positive_position_change_following_frame:\n",
    "                change_count+=1\n",
    "    \n",
    "        if change_count>minimum_change_frames_for_hit-1:\n",
    "            ball_detections_df['ball_hit'].iloc[i] = 1\n",
    "\n",
    "frame_nums_with_ball_hits = ball_detections_df[ball_detections_df['ball_hit']==1].index.tolist()\n"
   ]
  },
  {
   "cell_type": "code",
   "execution_count": 33,
   "metadata": {},
   "outputs": [
    {
     "data": {
      "text/html": [
       "<div>\n",
       "<style scoped>\n",
       "    .dataframe tbody tr th:only-of-type {\n",
       "        vertical-align: middle;\n",
       "    }\n",
       "\n",
       "    .dataframe tbody tr th {\n",
       "        vertical-align: top;\n",
       "    }\n",
       "\n",
       "    .dataframe thead th {\n",
       "        text-align: right;\n",
       "    }\n",
       "</style>\n",
       "<table border=\"1\" class=\"dataframe\">\n",
       "  <thead>\n",
       "    <tr style=\"text-align: right;\">\n",
       "      <th></th>\n",
       "      <th>x1</th>\n",
       "      <th>y1</th>\n",
       "      <th>x2</th>\n",
       "      <th>y2</th>\n",
       "      <th>mean_y</th>\n",
       "      <th>mid_y_rolling_mean</th>\n",
       "      <th>mean_y_rolling_mean</th>\n",
       "      <th>delta_y</th>\n",
       "      <th>ball_hit</th>\n",
       "    </tr>\n",
       "  </thead>\n",
       "  <tbody>\n",
       "    <tr>\n",
       "      <th>11</th>\n",
       "      <td>777.972107</td>\n",
       "      <td>717.838806</td>\n",
       "      <td>796.685852</td>\n",
       "      <td>739.078491</td>\n",
       "      <td>728.458649</td>\n",
       "      <td>737.068301</td>\n",
       "      <td>737.068301</td>\n",
       "      <td>6.579309</td>\n",
       "      <td>1</td>\n",
       "    </tr>\n",
       "    <tr>\n",
       "      <th>58</th>\n",
       "      <td>926.006030</td>\n",
       "      <td>240.594699</td>\n",
       "      <td>939.068481</td>\n",
       "      <td>253.923105</td>\n",
       "      <td>247.258902</td>\n",
       "      <td>242.324698</td>\n",
       "      <td>242.324698</td>\n",
       "      <td>-1.596962</td>\n",
       "      <td>1</td>\n",
       "    </tr>\n",
       "    <tr>\n",
       "      <th>95</th>\n",
       "      <td>624.725311</td>\n",
       "      <td>749.244232</td>\n",
       "      <td>641.136383</td>\n",
       "      <td>766.280823</td>\n",
       "      <td>757.762527</td>\n",
       "      <td>775.167935</td>\n",
       "      <td>775.167935</td>\n",
       "      <td>0.889285</td>\n",
       "      <td>1</td>\n",
       "    </tr>\n",
       "    <tr>\n",
       "      <th>131</th>\n",
       "      <td>716.346527</td>\n",
       "      <td>229.184288</td>\n",
       "      <td>729.521179</td>\n",
       "      <td>242.902527</td>\n",
       "      <td>236.043407</td>\n",
       "      <td>235.683077</td>\n",
       "      <td>235.683077</td>\n",
       "      <td>-0.723661</td>\n",
       "      <td>1</td>\n",
       "    </tr>\n",
       "    <tr>\n",
       "      <th>182</th>\n",
       "      <td>1296.037109</td>\n",
       "      <td>740.427795</td>\n",
       "      <td>1314.294922</td>\n",
       "      <td>758.785583</td>\n",
       "      <td>749.606689</td>\n",
       "      <td>737.401254</td>\n",
       "      <td>737.401254</td>\n",
       "      <td>5.286462</td>\n",
       "      <td>1</td>\n",
       "    </tr>\n",
       "  </tbody>\n",
       "</table>\n",
       "</div>"
      ],
      "text/plain": [
       "              x1          y1           x2          y2      mean_y  \\\n",
       "11    777.972107  717.838806   796.685852  739.078491  728.458649   \n",
       "58    926.006030  240.594699   939.068481  253.923105  247.258902   \n",
       "95    624.725311  749.244232   641.136383  766.280823  757.762527   \n",
       "131   716.346527  229.184288   729.521179  242.902527  236.043407   \n",
       "182  1296.037109  740.427795  1314.294922  758.785583  749.606689   \n",
       "\n",
       "     mid_y_rolling_mean  mean_y_rolling_mean   delta_y  ball_hit  \n",
       "11           737.068301           737.068301  6.579309         1  \n",
       "58           242.324698           242.324698 -1.596962         1  \n",
       "95           775.167935           775.167935  0.889285         1  \n",
       "131          235.683077           235.683077 -0.723661         1  \n",
       "182          737.401254           737.401254  5.286462         1  "
      ]
     },
     "execution_count": 33,
     "metadata": {},
     "output_type": "execute_result"
    }
   ],
   "source": [
    "ball_detections_df[ball_detections_df['ball_hit']==1]\n"
   ]
  },
  {
   "cell_type": "code",
   "execution_count": null,
   "metadata": {},
   "outputs": [],
   "source": []
  }
 ],
 "metadata": {
  "kernelspec": {
   "display_name": "Python 3",
   "language": "python",
   "name": "python3"
  },
  "language_info": {
   "codemirror_mode": {
    "name": "ipython",
    "version": 3
   },
   "file_extension": ".py",
   "mimetype": "text/x-python",
   "name": "python",
   "nbconvert_exporter": "python",
   "pygments_lexer": "ipython3",
   "version": "3.11.7"
  }
 },
 "nbformat": 4,
 "nbformat_minor": 2
}
